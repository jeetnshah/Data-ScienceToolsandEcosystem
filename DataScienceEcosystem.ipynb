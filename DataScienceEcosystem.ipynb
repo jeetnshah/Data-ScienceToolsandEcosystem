{
 "cells": [
  {
   "cell_type": "markdown",
   "id": "3a56376e-a447-4132-89f0-a72779fb9178",
   "metadata": {},
   "source": [
    "# Data Science Tools and Ecosystem"
   ]
  },
  {
   "cell_type": "markdown",
   "id": "0e5b0f72-8db8-4953-a734-4a3fc2eb1450",
   "metadata": {
    "tags": []
   },
   "source": [
    "## In this notebook, Data Science Tools and Ecosystem are summarized."
   ]
  },
  {
   "cell_type": "markdown",
   "id": "6a2f44d5-729e-4bc7-ae80-02ffc7e42b84",
   "metadata": {},
   "source": [
    "## Objectives:"
   ]
  },
  {
   "cell_type": "markdown",
   "id": "ac48ef0a-b108-4696-b9c9-673f6d72da39",
   "metadata": {},
   "source": [
    "- Popular Languages used by Data Scientists\n",
    "- Popular Data Science Libraries \n",
    "- Arithmetic Expression Examples"
   ]
  },
  {
   "cell_type": "markdown",
   "id": "33554772-2b44-4855-9eef-fbab6ae6aa98",
   "metadata": {
    "tags": []
   },
   "source": [
    "## Some of the popular programming languages used by Data Scientists are:\n",
    "1. Python\n",
    "2. R\n",
    "3. SQL"
   ]
  },
  {
   "cell_type": "markdown",
   "id": "22a6e362-7997-4d33-a33a-8c5be9f8e259",
   "metadata": {},
   "source": [
    "## Some of the commonly used data science libraries are:\n",
    "1. NumPy\n",
    "2. Pandas\n",
    "3. Matplotlib"
   ]
  },
  {
   "cell_type": "markdown",
   "id": "2e311919-b9c7-450b-9e0a-82d700f01d4a",
   "metadata": {},
   "source": [
    "| Data Science Tools |\n",
    "| ----- | \n",
    "| Juptyer Notebook | \n",
    "| Apache Spark | \n",
    "| Apache Hadoop | "
   ]
  },
  {
   "cell_type": "markdown",
   "id": "0ac39a94-4155-4fb3-8920-53205c79e2c3",
   "metadata": {},
   "source": [
    "### Below are a few examples of arithmetic expression examples:"
   ]
  },
  {
   "cell_type": "markdown",
   "id": "9ab88f35-771e-4d75-88d5-e145137431b8",
   "metadata": {
    "tags": []
   },
   "source": [
    "#### This is a simple arithmetic experession to multiply and add integers."
   ]
  },
  {
   "cell_type": "code",
   "execution_count": 3,
   "id": "8e495696-d709-409f-aaa4-1eeef1a79efd",
   "metadata": {
    "tags": []
   },
   "outputs": [
    {
     "data": {
      "text/plain": [
       "17"
      ]
     },
     "execution_count": 3,
     "metadata": {},
     "output_type": "execute_result"
    }
   ],
   "source": [
    "(3*4)+5"
   ]
  },
  {
   "cell_type": "markdown",
   "id": "c1a58c56-254c-44d7-8b15-1f39d6284621",
   "metadata": {},
   "source": [
    "#### This will convert 200 minutes into hours by dividing by 60 minutes"
   ]
  },
  {
   "cell_type": "code",
   "execution_count": 4,
   "id": "230e16ff-2e6b-4a6d-b32e-61c338da5e65",
   "metadata": {
    "tags": []
   },
   "outputs": [
    {
     "data": {
      "text/plain": [
       "3.3333333333333335"
      ]
     },
     "execution_count": 4,
     "metadata": {},
     "output_type": "execute_result"
    }
   ],
   "source": [
    "200/60"
   ]
  },
  {
   "cell_type": "markdown",
   "id": "33393c57-206f-4ab9-8599-821d50e57b8b",
   "metadata": {},
   "source": [
    "## Notebook by Jeet Shah"
   ]
  },
  {
   "cell_type": "code",
   "execution_count": null,
   "id": "ed17ce3d-8e47-486d-9898-83c4166737ef",
   "metadata": {},
   "outputs": [],
   "source": []
  }
 ],
 "metadata": {
  "kernelspec": {
   "display_name": "Python",
   "language": "python",
   "name": "conda-env-python-py"
  },
  "language_info": {
   "codemirror_mode": {
    "name": "ipython",
    "version": 3
   },
   "file_extension": ".py",
   "mimetype": "text/x-python",
   "name": "python",
   "nbconvert_exporter": "python",
   "pygments_lexer": "ipython3",
   "version": "3.7.12"
  }
 },
 "nbformat": 4,
 "nbformat_minor": 5
}
